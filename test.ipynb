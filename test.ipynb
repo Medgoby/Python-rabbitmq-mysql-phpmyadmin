{
 "cells": [
  {
   "cell_type": "code",
   "execution_count": 1,
   "id": "93488f63",
   "metadata": {},
   "outputs": [],
   "source": [
    "import hashlib\n",
    "import pandas as pd\n",
    "import re"
   ]
  },
  {
   "cell_type": "code",
   "execution_count": 20,
   "id": "fa91d4bb",
   "metadata": {},
   "outputs": [
    {
     "ename": "AttributeError",
     "evalue": "'str' object has no attribute 'decode'",
     "output_type": "error",
     "traceback": [
      "\u001b[0;31m---------------------------------------------------------------------------\u001b[0m",
      "\u001b[0;31mAttributeError\u001b[0m                            Traceback (most recent call last)",
      "\u001b[0;32m/tmp/ipykernel_113355/1123728676.py\u001b[0m in \u001b[0;36m<module>\u001b[0;34m\u001b[0m\n\u001b[1;32m      1\u001b[0m \u001b[0mbody\u001b[0m \u001b[0;34m=\u001b[0m\u001b[0;34m'191.95.28.119 - - [01/Nov/2022:00:24:04 -0500] \"GET https://tools.ovid.com:443/lpcms/covers/books/schwartz.gif HTTP/1.1\" 200 6566 -'\u001b[0m\u001b[0;34m\u001b[0m\u001b[0;34m\u001b[0m\u001b[0m\n\u001b[1;32m      2\u001b[0m \u001b[0;34m\u001b[0m\u001b[0m\n\u001b[0;32m----> 3\u001b[0;31m \u001b[0mbody\u001b[0m\u001b[0;34m.\u001b[0m\u001b[0mdecode\u001b[0m\u001b[0;34m(\u001b[0m\u001b[0;34m\"utf-8\"\u001b[0m\u001b[0;34m)\u001b[0m\u001b[0;34m\u001b[0m\u001b[0;34m\u001b[0m\u001b[0m\n\u001b[0m",
      "\u001b[0;31mAttributeError\u001b[0m: 'str' object has no attribute 'decode'"
     ]
    }
   ],
   "source": [
    "body ='191.95.28.119 - - [01/Nov/2022:00:24:04 -0500] \"GET https://tools.ovid.com:443/lpcms/covers/books/schwartz.gif HTTP/1.1\" 200 6566 -'\n",
    "\n",
    "body.decode(\"utf-8\")"
   ]
  },
  {
   "cell_type": "code",
   "execution_count": 9,
   "id": "9676d395",
   "metadata": {},
   "outputs": [
    {
     "name": "stdout",
     "output_type": "stream",
     "text": [
      "191.95.28.119   [01/Nov/2022:00:24:04 0500] GET https://tools.ovid.com:443/lpcms/covers/books/schwartz.gif HTTP/1.1 200 6566 \n"
     ]
    }
   ],
   "source": [
    "text ='191.95.28.119 - - [01/Nov/2022:00:24:04 -0500] \"GET https://tools.ovid.com:443/lpcms/covers/books/schwartz.gif HTTP/1.1\" 200 6566 -'\n",
    "\n",
    "text = text.replace('-',\"\")\n",
    "text = text.replace('\"',\"\")\n",
    "print(text)"
   ]
  },
  {
   "cell_type": "code",
   "execution_count": 10,
   "id": "8f274062",
   "metadata": {},
   "outputs": [
    {
     "ename": "AttributeError",
     "evalue": "'NoneType' object has no attribute 'groups'",
     "output_type": "error",
     "traceback": [
      "\u001b[0;31m---------------------------------------------------------------------------\u001b[0m",
      "\u001b[0;31mAttributeError\u001b[0m                            Traceback (most recent call last)",
      "\u001b[0;32m/tmp/ipykernel_113355/1127056502.py\u001b[0m in \u001b[0;36m<module>\u001b[0;34m\u001b[0m\n\u001b[1;32m      5\u001b[0m \u001b[0mtext\u001b[0m \u001b[0;34m=\u001b[0m \u001b[0mtext\u001b[0m\u001b[0;34m.\u001b[0m\u001b[0mreplace\u001b[0m\u001b[0;34m(\u001b[0m\u001b[0;34m'\"'\u001b[0m\u001b[0;34m,\u001b[0m\u001b[0;34m\"\"\u001b[0m\u001b[0;34m)\u001b[0m\u001b[0;34m\u001b[0m\u001b[0;34m\u001b[0m\u001b[0m\n\u001b[1;32m      6\u001b[0m \u001b[0mlog_data\u001b[0m \u001b[0;34m=\u001b[0m \u001b[0mre\u001b[0m\u001b[0;34m.\u001b[0m\u001b[0msearch\u001b[0m\u001b[0;34m(\u001b[0m\u001b[0;34mr'^(\\S+) (\\S+) (\\S+) \\[(.*?)\\] \"(.*?)\" (\\d+) (\\d+|-) \"(.*?)\" \"(.*?)\"$'\u001b[0m\u001b[0;34m,\u001b[0m \u001b[0mtext\u001b[0m\u001b[0;34m)\u001b[0m\u001b[0;34m\u001b[0m\u001b[0;34m\u001b[0m\u001b[0m\n\u001b[0;32m----> 7\u001b[0;31m \u001b[0mlog_data\u001b[0m\u001b[0;34m.\u001b[0m\u001b[0mgroups\u001b[0m\u001b[0;34m(\u001b[0m\u001b[0;34m)\u001b[0m\u001b[0;34m\u001b[0m\u001b[0;34m\u001b[0m\u001b[0m\n\u001b[0m",
      "\u001b[0;31mAttributeError\u001b[0m: 'NoneType' object has no attribute 'groups'"
     ]
    }
   ],
   "source": [
    "text ='191.95.28.119 - - [01/Nov/2022:00:24:04 -0500] \"GET https://tools.ovid.com:443/lpcms/covers/books/schwartz.gif HTTP/1.1\" 200 6566 -'\n",
    "\n",
    "text='204.199.126.194 FjAr4YZuuE87FXf pablor.martinez [01/Nov/2022:00:00:00 -0500] \"GET https://accessmedicine.mhmedical.com:443/Images/logos/sprite_logos_footer.png HTTP/1.1\" 200 7259 -'\n",
    "text = text.replace('-',\"\")\n",
    "text = text.replace('\"',\"\")\n",
    "log_data = re.search(r'^(\\S+) (\\S+) (\\S+) \\[(.*?)\\] \"(.*?)\" (\\d+) (\\d+|-) \"(.*?)\" \"(.*?)\"$', text)\n",
    "log_data.groups()"
   ]
  },
  {
   "cell_type": "code",
   "execution_count": 6,
   "id": "8a4c97fb",
   "metadata": {},
   "outputs": [
    {
     "data": {
      "text/plain": [
       "('2018-09-01', '2018-09', '2018')"
      ]
     },
     "execution_count": 6,
     "metadata": {},
     "output_type": "execute_result"
    }
   ],
   "source": [
    "import re\n",
    "mon = re.search(r'(((\\d{4})-\\d{2})-\\d{2})', '2018-09-01')\n",
    "mon.groups()"
   ]
  },
  {
   "cell_type": "code",
   "execution_count": 16,
   "id": "12fd4db1",
   "metadata": {},
   "outputs": [
    {
     "data": {
      "text/plain": [
       "0   NaN\n",
       "dtype: float64"
      ]
     },
     "execution_count": 16,
     "metadata": {},
     "output_type": "execute_result"
    }
   ],
   "source": [
    "text =pd.Series(['191.95.28.119 - - [01/Nov/2022:00:24:04 -0500] \"GET https://tools.ovid.com:443/lpcms/covers/books/schwartz.gif HTTP/1.1\" 200 6566 -'])\n",
    "\n",
    "#text.apply(lambda x: x.split(\" \"))\n",
    "import pandas as pd\n",
    "text.str.decode(encoding = 'UTF-8')"
   ]
  },
  {
   "cell_type": "code",
   "execution_count": 58,
   "id": "d4d6dc45",
   "metadata": {},
   "outputs": [
    {
     "data": {
      "text/plain": [
       "'01/Nov/2022:00:24:04'"
      ]
     },
     "execution_count": 58,
     "metadata": {},
     "output_type": "execute_result"
    }
   ],
   "source": [
    "text ='191.95.28.119 - - [01/Nov/2022:00:24:04 -0500] \"GET https://tools.ovid.com:443/lpcms/covers/books/schwartz.gif HTTP/1.1\" 200 6566 -'\n",
    "\n",
    "pattern =\"\\[(?P<timestamp>\\S{20})\"\n",
    "mon = re.search(pattern, text)\n",
    "mon.group('timestamp')"
   ]
  },
  {
   "cell_type": "code",
   "execution_count": 23,
   "id": "dbd74730",
   "metadata": {},
   "outputs": [
    {
     "data": {
      "text/plain": [
       "'01/Nov/2022:00:24:04'"
      ]
     },
     "execution_count": 23,
     "metadata": {},
     "output_type": "execute_result"
    }
   ],
   "source": [
    "regex = re.compile(r\"(?P<ip>\\S{7,15}) (?P<session>\\S{1}|\\S{15}) (?P<user>\\S{1,50}) \\[(?P<timestamp>\\S{20}) \"\n",
    "                       r\"(?P<utc>\\S{5})\\] \\\"(?P<method>GET|POST|DELETE|PATCH|PUT) (?P<url>\\S{1,4096}) \"\n",
    "                       r\"(?P<version>\\S{1,10})\\\" (?P<status>\\d{3}) (?P<size>\\d+) -\")\n",
    "mon = re.search(regex, text)\n",
    "mon.group('timestamp')"
   ]
  },
  {
   "cell_type": "code",
   "execution_count": 36,
   "id": "4c7c77d9",
   "metadata": {},
   "outputs": [
    {
     "data": {
      "text/plain": [
       "'[01/Nov/2022:00:24:0'"
      ]
     },
     "execution_count": 36,
     "metadata": {},
     "output_type": "execute_result"
    }
   ],
   "source": [
    "text ='191.95.28.119 - - [01/Nov/2022:00:24:04 -0500] \"GET https://tools.ovid.com:443/lpcms/covers/books/schwartz.gif HTTP/1.1\" 200 6566 -'\n",
    "\n",
    "pattern =\"(?P<timestamp>\\S{20})\"\n",
    "mon = re.search(pattern, text)\n",
    "mon.group('timestamp')"
   ]
  },
  {
   "cell_type": "code",
   "execution_count": 38,
   "id": "afc31f46",
   "metadata": {},
   "outputs": [
    {
     "data": {
      "text/plain": [
       "'191.95.28.119 - - [01/Nov/2022:00:24:04 -0500] \"GET https://tools.ovid.com:443/lpcms/covers/books/schwartz.gif HTTP/1.1\" 200 6566 -'"
      ]
     },
     "execution_count": 38,
     "metadata": {},
     "output_type": "execute_result"
    }
   ],
   "source": [
    "text ='191.95.28.119 - - [01/Nov/2022:00:24:04 -0500] \"GET https://tools.ovid.com:443/lpcms/covers/books/schwartz.gif HTTP/1.1\" 200 6566 -'\n",
    "\n",
    "text=text.strip()\n",
    "text"
   ]
  },
  {
   "cell_type": "code",
   "execution_count": 39,
   "id": "cc01c14e",
   "metadata": {},
   "outputs": [
    {
     "data": {
      "text/plain": [
       "'191.95.28.119'"
      ]
     },
     "execution_count": 39,
     "metadata": {},
     "output_type": "execute_result"
    }
   ],
   "source": [
    "re.search('\\d{1,3}\\.\\d{1,3}\\.\\d{1,3}\\.\\d{1,3}', text).group(0)"
   ]
  },
  {
   "cell_type": "code",
   "execution_count": 51,
   "id": "8dcc8648",
   "metadata": {},
   "outputs": [
    {
     "data": {
      "text/plain": [
       "'[01/Nov/2022:00:24:04 -0500]'"
      ]
     },
     "execution_count": 51,
     "metadata": {},
     "output_type": "execute_result"
    }
   ],
   "source": [
    "re.search('\\[.*\\]', text).group(0)"
   ]
  },
  {
   "cell_type": "code",
   "execution_count": 52,
   "id": "400ab5eb",
   "metadata": {},
   "outputs": [
    {
     "data": {
      "text/plain": [
       "'\"GET'"
      ]
     },
     "execution_count": 52,
     "metadata": {},
     "output_type": "execute_result"
    }
   ],
   "source": [
    "re.search('\\\".*\\\"', text).group(0).split()[0]"
   ]
  },
  {
   "cell_type": "code",
   "execution_count": 53,
   "id": "ba500994",
   "metadata": {},
   "outputs": [
    {
     "data": {
      "text/plain": [
       "'https://tools.ovid.com:443/lpcms/covers/books/schwartz.gif'"
      ]
     },
     "execution_count": 53,
     "metadata": {},
     "output_type": "execute_result"
    }
   ],
   "source": [
    "re.search('\\\".*\\\"', text).group(0).split()[1]"
   ]
  },
  {
   "cell_type": "code",
   "execution_count": 54,
   "id": "ef2955d2",
   "metadata": {},
   "outputs": [
    {
     "data": {
      "text/plain": [
       "'200'"
      ]
     },
     "execution_count": 54,
     "metadata": {},
     "output_type": "execute_result"
    }
   ],
   "source": [
    "re.search('\\s\\d{3}\\s', text).group(0).strip()"
   ]
  },
  {
   "cell_type": "code",
   "execution_count": null,
   "id": "b701692b",
   "metadata": {},
   "outputs": [],
   "source": []
  },
  {
   "cell_type": "code",
   "execution_count": null,
   "id": "66a77140",
   "metadata": {},
   "outputs": [],
   "source": []
  },
  {
   "cell_type": "code",
   "execution_count": 59,
   "id": "b32db6c1",
   "metadata": {},
   "outputs": [],
   "source": [
    "text ='191.95.28.119 - - [01/Nov/2022:00:24:04 -0500] \"GET https://tools.ovid.com:443/lpcms/covers/books/schwartz.gif HTTP/1.1\" 200 6566 -'\n",
    "\n",
    "def get_timestamp(body):\n",
    "    #pattern =\"\\[(?P<timestamp>\\S{20})\"\n",
    "    pattern = re.search(\"\\[(?P<timestamp>\\S{20})\", body)\n",
    "    datetime=pattern.group('timestamp')\n",
    "    return datetime"
   ]
  },
  {
   "cell_type": "code",
   "execution_count": 64,
   "id": "b2b2e1ad",
   "metadata": {},
   "outputs": [
    {
     "data": {
      "text/plain": [
       "'01/Nov/2022:00:24:04'"
      ]
     },
     "execution_count": 64,
     "metadata": {},
     "output_type": "execute_result"
    }
   ],
   "source": [
    "date=get_timestamp(text)\n",
    "date.replace(\"''\",\"\")"
   ]
  },
  {
   "cell_type": "code",
   "execution_count": null,
   "id": "14370cc3",
   "metadata": {},
   "outputs": [],
   "source": []
  },
  {
   "cell_type": "code",
   "execution_count": 73,
   "id": "72908853",
   "metadata": {},
   "outputs": [],
   "source": [
    "def get_session(body,regex):\n",
    "    pattern = re.search(regex, body)\n",
    "    session = pattern.group(\"session\")\n",
    "    if session == \"-\":\n",
    "        return None\n",
    "    return session "
   ]
  },
  {
   "cell_type": "code",
   "execution_count": 74,
   "id": "f57daab0",
   "metadata": {},
   "outputs": [],
   "source": [
    "def get_user(body,regex):\n",
    "    pattern = re.search(regex, body)\n",
    "    session = pattern.group(\"user\")\n",
    "    if session == \"-\":\n",
    "        return None\n",
    "    return session "
   ]
  },
  {
   "cell_type": "code",
   "execution_count": 75,
   "id": "c4fff107",
   "metadata": {},
   "outputs": [
    {
     "data": {
      "text/plain": [
       "'9'"
      ]
     },
     "execution_count": 75,
     "metadata": {},
     "output_type": "execute_result"
    }
   ],
   "source": [
    "text ='191.95.28.119 - - [01/Nov/2022:00:24:04 -0500] \"GET https://tools.ovid.com:443/lpcms/covers/books/schwartz.gif HTTP/1.1\" 200 6566 -'\n",
    "regex = re.compile(r\"(?P<session>\\S{1}|\\S{15}) (?P<user>\\S{1,50})\")\n",
    "get_session(text,regex)"
   ]
  },
  {
   "cell_type": "code",
   "execution_count": 76,
   "id": "eef5b6d9",
   "metadata": {},
   "outputs": [
    {
     "data": {
      "text/plain": [
       "'FjAr4YZuuE87FXf'"
      ]
     },
     "execution_count": 76,
     "metadata": {},
     "output_type": "execute_result"
    }
   ],
   "source": [
    "text ='204.199.126.194 FjAr4YZuuE87FXf pablor.martinez [01/Nov/2022:00:00:00 -0500] \"GET https://accessmedicine.mhmedical.com:443/Images/logos/sprite_logos_footer.png HTTP/1.1\" 200 7259 -'\n",
    "regex = re.compile(r\"(?P<session>\\S{1}|\\S{15}) (?P<user>\\S{1,50})\")\n",
    "get_user(text,regex)"
   ]
  },
  {
   "cell_type": "code",
   "execution_count": null,
   "id": "7f2d7fe7",
   "metadata": {},
   "outputs": [],
   "source": []
  },
  {
   "cell_type": "code",
   "execution_count": null,
   "id": "669d6bbb",
   "metadata": {},
   "outputs": [],
   "source": []
  },
  {
   "cell_type": "code",
   "execution_count": null,
   "id": "762850d0",
   "metadata": {},
   "outputs": [],
   "source": []
  }
 ],
 "metadata": {
  "kernelspec": {
   "display_name": "Python 3 (ipykernel)",
   "language": "python",
   "name": "python3"
  },
  "language_info": {
   "codemirror_mode": {
    "name": "ipython",
    "version": 3
   },
   "file_extension": ".py",
   "mimetype": "text/x-python",
   "name": "python",
   "nbconvert_exporter": "python",
   "pygments_lexer": "ipython3",
   "version": "3.9.13"
  }
 },
 "nbformat": 4,
 "nbformat_minor": 5
}
